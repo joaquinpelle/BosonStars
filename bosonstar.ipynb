{
 "cells": [
  {
   "cell_type": "code",
   "execution_count": 1,
   "metadata": {},
   "outputs": [
    {
     "name": "stderr",
     "output_type": "stream",
     "text": [
      "\u001b[32m\u001b[1m  Activating\u001b[22m\u001b[39m project at `~/BosonStars/BosonStars`\n"
     ]
    },
    {
     "data": {
      "text/plain": [
       "79.8"
      ]
     },
     "metadata": {},
     "output_type": "display_data"
    }
   ],
   "source": [
    "import Pkg\n",
    "Pkg.activate(\"BosonStars\")\n",
    "# Pkg.resolve()\n",
    "\n",
    "using Skylight\n",
    "using CairoMakie\n",
    "using Printf\n",
    "\n",
    "include(\"bosonstar_parameters.jl\")\n"
   ]
  },
  {
   "cell_type": "code",
   "execution_count": 2,
   "metadata": {},
   "outputs": [
    {
     "name": "stdout",
     "output_type": "stream",
     "text": [
      "Solve stats:\n",
      "Wall clock time: 111.159199596 seconds\n",
      "Memory allocated: 16.389 GiB\n"
     ]
    },
    {
     "name": "stdout",
     "output_type": "stream",
     "text": [
      "Solve stats:\n",
      "Wall clock time: 47.887434254 seconds\n",
      "Memory allocated: 16.963 GiB\n"
     ]
    },
    {
     "name": "stdout",
     "output_type": "stream",
     "text": [
      "Solve stats:\n",
      "Wall clock time: 82.088264799 seconds\n",
      "Memory allocated: 24.999 GiB\n"
     ]
    },
    {
     "name": "stdout",
     "output_type": "stream",
     "text": [
      "Solve stats:\n",
      "Wall clock time: 44.29133953 seconds\n",
      "Memory allocated: 15.964 GiB\n"
     ]
    },
    {
     "name": "stdout",
     "output_type": "stream",
     "text": [
      "Solve stats:\n",
      "Wall clock time: 42.458714346 seconds\n",
      "Memory allocated: 16.961 GiB\n"
     ]
    },
    {
     "name": "stdout",
     "output_type": "stream",
     "text": [
      "Solve stats:\n",
      "Wall clock time: 71.592308826 seconds\n",
      "Memory allocated: 24.996 GiB\n"
     ]
    },
    {
     "name": "stdout",
     "output_type": "stream",
     "text": [
      "Solve stats:\n",
      "Wall clock time: 37.510286055 seconds\n",
      "Memory allocated: 15.959 GiB\n"
     ]
    },
    {
     "name": "stdout",
     "output_type": "stream",
     "text": [
      "Solve stats:\n",
      "Wall clock time: 41.038388719 seconds\n",
      "Memory allocated: 16.957 GiB\n"
     ]
    },
    {
     "name": "stdout",
     "output_type": "stream",
     "text": [
      "Solve stats:\n",
      "Wall clock time: 70.664418206 seconds\n",
      "Memory allocated: 24.993 GiB\n"
     ]
    },
    {
     "name": "stdout",
     "output_type": "stream",
     "text": [
      "Solve stats:\n",
      "Wall clock time: 39.718747553 seconds\n",
      "Memory allocated: 16.545 GiB\n"
     ]
    },
    {
     "name": "stdout",
     "output_type": "stream",
     "text": [
      "Solve stats:\n",
      "Wall clock time: 42.673932515 seconds\n",
      "Memory allocated: 17.354 GiB\n"
     ]
    },
    {
     "name": "stdout",
     "output_type": "stream",
     "text": [
      "Solve stats:\n",
      "Wall clock time: 71.172252929 seconds\n",
      "Memory allocated: 25.175 GiB\n"
     ]
    },
    {
     "name": "stdout",
     "output_type": "stream",
     "text": [
      "Solve stats:\n",
      "Wall clock time: 39.980527035 seconds\n",
      "Memory allocated: 16.592 GiB\n"
     ]
    },
    {
     "name": "stdout",
     "output_type": "stream",
     "text": [
      "Solve stats:\n",
      "Wall clock time: 42.247132542 seconds\n",
      "Memory allocated: 17.348 GiB\n"
     ]
    },
    {
     "name": "stdout",
     "output_type": "stream",
     "text": [
      "Solve stats:\n",
      "Wall clock time: 71.482363357 seconds\n",
      "Memory allocated: 25.202 GiB\n"
     ]
    },
    {
     "name": "stdout",
     "output_type": "stream",
     "text": [
      "Solve stats:\n",
      "Wall clock time: 40.984493294 seconds\n",
      "Memory allocated: 16.796 GiB\n"
     ]
    },
    {
     "name": "stdout",
     "output_type": "stream",
     "text": [
      "Solve stats:\n",
      "Wall clock time: 43.000029744 seconds\n",
      "Memory allocated: 17.449 GiB\n"
     ]
    },
    {
     "name": "stdout",
     "output_type": "stream",
     "text": [
      "Solve stats:\n",
      "Wall clock time: 71.708678315 seconds\n",
      "Memory allocated: 25.235 GiB\n"
     ]
    }
   ],
   "source": [
    "for modeltype in [\"LBS\",\"SBS\"]\n",
    "    for modelid in [1,2,3]\n",
    "        \n",
    "        modelname = modeltype*string(modelid)\n",
    "        \n",
    "        a = eval(Symbol(\"a_$(modelname)\"))\n",
    "        b = eval(Symbol(\"b_$(modelname)\"))\n",
    "        rin = eval(Symbol(\"rin_$(modelname)\"))\n",
    "        rout = eval(Symbol(\"rout_$(modelname)\"))\n",
    "        tempfilename = \"tables/Temp$(modelname).dat\"\n",
    "        \n",
    "        spacetime = BosonStarSpacetime(a=a,b=b)\n",
    "\n",
    "        for ξ in [5, 45, 85]\n",
    "\n",
    "            image_plane = ImagePlane(distance = 500.0,\n",
    "                                    observer_inclination_in_degrees = ξ,\n",
    "                                    horizontal_side_image_plane = rout*1.1,\n",
    "                                    vertical_side_image_plane = rout*1.1,\n",
    "                                    horizontal_number_of_nodes = 300,\n",
    "                                    vertical_number_of_nodes = 300)\n",
    "\n",
    "            model = BosonStarAccretionDisk(inner_radius=rin, outer_radius=rout, temperature_file=tempfilename)\n",
    "                    \n",
    "            configurations = VacuumOTEConfigurations(spacetime=spacetime,\n",
    "                                                    image_plane = image_plane,\n",
    "                                                    observed_times = [0.0],\n",
    "                                                    radiative_model = model,\n",
    "                                                    unit_mass_in_solar_masses=1.0)\n",
    "\n",
    "            initial_data = get_initial_data(configurations)\n",
    "\n",
    "            cb, cb_params = get_callback_and_params(configurations) #... or, define your own cb and cb_params\n",
    "\n",
    "            run = integrate(initial_data, configurations, cb, cb_params; method=VCABM(), reltol=1e-13, abstol=1e-21)\n",
    "            \n",
    "            ξstr = string(@sprintf(\"%02d\", ξ))\n",
    "            \n",
    "            output_data = run.output_data\n",
    "\n",
    "            bolometric_intensities = get_observed_bolometric_intensities(initial_data, output_data, configurations)\n",
    "\n",
    "            xs,ys = get_pixel_coordinates_vectors(configurations)\n",
    "\n",
    "            zs = view_intensities_grid(bolometric_intensities, configurations)\n",
    "\n",
    "            fig = Figure(font = \"CMU Serif\")\n",
    "            ax = Axis(fig[1,1], xlabel=L\"\\alpha\", ylabel=L\"\\beta\", ylabelsize = 26, xlabelsize = 26) \n",
    "            hmap = heatmap!(xs, ys, zs; colormap=:gist_heat, interpolate=true)\n",
    "            Colorbar(fig[:, end+1], hmap, label=L\"I\", labelsize=26, width = 15, ticksize = 18, tickalign = 1)\n",
    "            colsize!(fig.layout, 1, Aspect(1, 1.0))\n",
    "            colgap!(fig.layout, 7)\n",
    "\n",
    "            CairoMakie.save(\"plots/$(modelname)_i$(ξstr)deg.png\", fig)\n",
    "            save_to_hdf5(\"io/$(modelname)_i$(ξstr)deg.h5\", configurations, initial_data, [run])\n",
    "\n",
    "        end\n",
    "    end\n",
    "end"
   ]
  }
 ],
 "metadata": {
  "kernelspec": {
   "display_name": "Julia 1.9.0",
   "language": "julia",
   "name": "julia-1.9"
  },
  "language_info": {
   "file_extension": ".jl",
   "mimetype": "application/julia",
   "name": "julia",
   "version": "1.9.0"
  },
  "orig_nbformat": 4
 },
 "nbformat": 4,
 "nbformat_minor": 2
}
