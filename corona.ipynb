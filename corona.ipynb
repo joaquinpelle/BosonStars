{
 "cells": [
  {
   "cell_type": "code",
   "execution_count": 36,
   "metadata": {},
   "outputs": [
    {
     "name": "stderr",
     "output_type": "stream",
     "text": [
      "\u001b[32m\u001b[1m  Activating\u001b[22m\u001b[39m project at `~/BosonStars/BosonStars`\n"
     ]
    },
    {
     "name": "stderr",
     "output_type": "stream",
     "text": [
      "\u001b[32m\u001b[1m   Resolving\u001b[22m\u001b[39m package versions...\n"
     ]
    },
    {
     "name": "stderr",
     "output_type": "stream",
     "text": [
      "\u001b[32m\u001b[1m    Updating\u001b[22m\u001b[39m `~/BosonStars/BosonStars/Project.toml`\n",
      "  \u001b[90m[a93c6f00] \u001b[39m\u001b[92m+ DataFrames v1.6.1\u001b[39m\n",
      "\u001b[32m\u001b[1m    Updating\u001b[22m\u001b[39m `~/BosonStars/BosonStars/Manifest.toml`\n",
      " "
     ]
    },
    {
     "name": "stderr",
     "output_type": "stream",
     "text": [
      " \u001b[90m[a8cc5b0e] \u001b[39m\u001b[92m+ Crayons v4.1.1\u001b[39m\n",
      "  \u001b[90m[a93c6f00] \u001b[39m\u001b[92m+ DataFrames v1.6.1\u001b[39m\n",
      "  \u001b[90m[842dd82b] \u001b[39m\u001b[92m+ InlineStrings v1.4.0\u001b[39m\n",
      "  \u001b[90m[41ab1584] \u001b[39m\u001b[92m+ InvertedIndices v1.3.0\u001b[39m\n",
      "  \u001b[90m[2dfb63ee] \u001b[39m\u001b[92m+ PooledArrays v1.4.2\u001b[39m\n",
      "  \u001b[90m[08abe8d2] \u001b[39m\u001b[92m+ PrettyTables v2.2.7\u001b[39m\n",
      "  \u001b[90m[91c51154] \u001b[39m\u001b[92m+ SentinelArrays v1.4.0\u001b[39m\n",
      "  \u001b[90m[892a3eda] \u001b[39m\u001b[92m+ StringManipulation v0.3.0\u001b[39m\n"
     ]
    },
    {
     "name": "stderr",
     "output_type": "stream",
     "text": [
      "\u001b[32m\u001b[1mPrecompiling\u001b[22m\u001b[39m "
     ]
    },
    {
     "name": "stderr",
     "output_type": "stream",
     "text": [
      "project...\n"
     ]
    },
    {
     "name": "stderr",
     "output_type": "stream",
     "text": [
      "\u001b[32m  ✓ \u001b[39m\u001b[90mInlineStrings\u001b[39m\n"
     ]
    },
    {
     "name": "stderr",
     "output_type": "stream",
     "text": [
      "\u001b[32m  ✓ \u001b[39mDataFrames\n"
     ]
    },
    {
     "name": "stderr",
     "output_type": "stream",
     "text": [
      "\u001b[32m  ✓ \u001b[39mBosonStars\n",
      "  3 dependencies successfully precompiled in 76 seconds. 315 already precompiled.\n"
     ]
    },
    {
     "name": "stderr",
     "output_type": "stream",
     "text": [
      "\u001b[32m\u001b[1m   Resolving\u001b[22m\u001b[39m package versions...\n"
     ]
    },
    {
     "name": "stderr",
     "output_type": "stream",
     "text": [
      "\u001b[32m\u001b[1m    Updating\u001b[22m\u001b[39m `~/BosonStars/BosonStars/Project.toml`\n",
      "  \u001b[90m[38e38edf] \u001b[39m\u001b[92m+ GLM v1.8.3\u001b[39m\n",
      "\u001b[32m\u001b[1m    Updating\u001b[22m\u001b[39m `~/BosonStars/BosonStars/Manifest.toml`\n",
      " "
     ]
    },
    {
     "name": "stderr",
     "output_type": "stream",
     "text": [
      " \u001b[90m[38e38edf] \u001b[39m\u001b[92m+ GLM v1.8.3\u001b[39m\n",
      "  \u001b[90m[1277b4bf] \u001b[39m\u001b[92m+ ShiftedArrays v2.0.0\u001b[39m\n",
      "  \u001b[90m[3eaba693] \u001b[39m\u001b[92m+ StatsModels v0.7.2\u001b[39m\n"
     ]
    },
    {
     "name": "stderr",
     "output_type": "stream",
     "text": [
      "\u001b[32m\u001b[1mPrecompiling\u001b[22m\u001b[39m "
     ]
    },
    {
     "name": "stderr",
     "output_type": "stream",
     "text": [
      "project...\n"
     ]
    },
    {
     "name": "stderr",
     "output_type": "stream",
     "text": [
      "\u001b[32m  ✓ \u001b[39m\u001b[90mStatsModels\u001b[39m\n"
     ]
    },
    {
     "name": "stderr",
     "output_type": "stream",
     "text": [
      "\u001b[32m  ✓ \u001b[39mGLM\n"
     ]
    },
    {
     "name": "stderr",
     "output_type": "stream",
     "text": [
      "\u001b[32m  ✓ \u001b[39mBosonStars\n",
      "  3 dependencies successfully precompiled in 15 seconds. 318 already precompiled.\n"
     ]
    }
   ],
   "source": [
    "using Pkg\n",
    "Pkg.activate(\"BosonStars\")\n",
    "using Skylight\n",
    "using StatsBase\n",
    "using CairoMakie\n",
    "using LinearAlgebra\n",
    "using Printf\n",
    "using Colors\n",
    "using DataFrames\n",
    "using GLM\n",
    "include(\"corona.jl\")\n",
    "include(\"ranges.jl\")\n",
    "include(\"juliacolors.jl\")"
   ]
  },
  {
   "cell_type": "markdown",
   "metadata": {},
   "source": [
    "Boson star"
   ]
  },
  {
   "cell_type": "code",
   "execution_count": 31,
   "metadata": {},
   "outputs": [
    {
     "data": {
      "text/plain": [
       "AccretionDiskWithTabulatedTemperature{ProgradeRotation, DataInterpolations.LinearInterpolation{Vector{Float64}, Vector{Float64}, true, Float64}}\n",
       "  inner_radius: Float64 0.1\n",
       "  outer_radius: Float64 79.6\n",
       "  rotation_sense: ProgradeRotation ProgradeRotation()\n",
       "  filename: String \"tables/TempLBS3.dat\"\n",
       "  temperature_interpolator: DataInterpolations.LinearInterpolation{Vector{Float64}, Vector{Float64}, true, Float64}\n"
      ]
     },
     "metadata": {},
     "output_type": "display_data"
    }
   ],
   "source": [
    "modelname = \"LBS\"\n",
    "modelid = 3\n",
    "filenames = get_filenames(modelname)\n",
    "obs_configurations = load_configurations_from_hdf5(\"io/$(filenames[modelid,1]).h5\")\n",
    "spacetime = obs_configurations.spacetime\n",
    "disk = obs_configurations.radiative_model"
   ]
  },
  {
   "cell_type": "code",
   "execution_count": 33,
   "metadata": {},
   "outputs": [
    {
     "name": "stderr",
     "output_type": "stream",
     "text": [
      "┌ Warning: dt(2.3283064365386963e-10) <= dtmin(2.3283064365386963e-10) at t=0.00014478834557952251, and step error estimate = 0.33908749066499366. Aborting. There is either an error in your model specification or the true solution is unstable.\n",
      "└ @ SciMLBase /home/jpelle/.julia/packages/SciMLBase/qp2gL/src/integrator_interface.jl:599\n",
      "┌ Warning: dt(2.3283064365386963e-10) <= dtmin(2.3283064365386963e-10) at t=0.00010017545589684631, and step error estimate = 1.0713617209823645. Aborting. There is either an error in your model specification or the true solution is unstable.\n",
      "└ @ SciMLBase /home/jpelle/.julia/packages/SciMLBase/qp2gL/src/integrator_interface.jl:599\n",
      "┌ Warning: dt(2.3283064365386963e-10) <= dtmin(2.3283064365386963e-10) at t=0.00010052048041926799, and step error estimate = 1.1410995438577065. Aborting. There is either an error in your model specification or the true solution is unstable.\n",
      "└ @ SciMLBase /home/jpelle/.julia/packages/SciMLBase/qp2gL/src/integrator_interface.jl:599\n",
      "┌ Warning: dt(2.3283064365386963e-10) <= dtmin(2.3283064365386963e-10) at t=0.00010003633971920405, and step error estimate = 0.8270964782099063. Aborting. There is either an error in your model specification or the true solution is unstable.\n",
      "└ @ SciMLBase /home/jpelle/.julia/packages/SciMLBase/qp2gL/src/integrator_interface.jl:599\n",
      "┌ Warning: dt(2.3283064365386963e-10) <= dtmin(2.3283064365386963e-10) at t=0.00017113210003598058, and step error estimate = 0.7097365652207892. Aborting. There is either an error in your model specification or the true solution is unstable.\n",
      "└ @ SciMLBase /home/jpelle/.julia/packages/SciMLBase/qp2gL/src/integrator_interface.jl:599\n",
      "┌ Warning: dt(2.3283064365386963e-10) <= dtmin(2.3283064365386963e-10) at t=0.00013541916971062697, and step error estimate = 8.458940661721188. Aborting. There is either an error in your model specification or the true solution is unstable.\n",
      "└ @ SciMLBase /home/jpelle/.julia/packages/SciMLBase/qp2gL/src/integrator_interface.jl:599\n",
      "┌ Warning: dt(2.3283064365386963e-10) <= dtmin(2.3283064365386963e-10) at t=0.00010793017943937511, and step error estimate = 1.02160263698492. Aborting. There is either an error in your model specification or the true solution is unstable.\n",
      "└ @ SciMLBase /home/jpelle/.julia/packages/SciMLBase/qp2gL/src/integrator_interface.jl:599\n",
      "┌ Warning: dt(2.3283064365386963e-10) <= dtmin(2.3283064365386963e-10) at t=0.00013280127603247795, and step error estimate = 0.8773900814101265. Aborting. There is either an error in your model specification or the true solution is unstable.\n",
      "└ @ SciMLBase /home/jpelle/.julia/packages/SciMLBase/qp2gL/src/integrator_interface.jl:599\n"
     ]
    },
    {
     "name": "stdout",
     "output_type": "stream",
     "text": [
      "Equations integration stats:\n",
      "Wall clock time: 64.803027929 seconds\n",
      "Memory allocated: 120.091 GiB\n"
     ]
    },
    {
     "ename": "MethodError",
     "evalue": "MethodError: no method matching ndigits(::Vector{Float64}; base::Int64, pad::Int64)\n\nClosest candidates are:\n  ndigits(!Matched::Integer; base, pad)\n   @ Base intfuncs.jl:671\n",
     "output_type": "error",
     "traceback": [
      "MethodError: no method matching ndigits(::Vector{Float64}; base::Int64, pad::Int64)\n",
      "\n",
      "Closest candidates are:\n",
      "  ndigits(!Matched::Integer; base, pad)\n",
      "   @ Base intfuncs.jl:671\n",
      "\n",
      "\n",
      "Stacktrace:\n",
      " [1] plength(f::Printf.Spec{Val{'d'}}, x::Vector{Float64})\n",
      "   @ Printf ~/julia-1.9.2/share/julia/stdlib/v1.9/Printf/src/Printf.jl:824\n",
      " [2] computelen\n",
      "   @ ~/julia-1.9.2/share/julia/stdlib/v1.9/Printf/src/Printf.jl:842 [inlined]\n",
      " [3] format(f::Printf.Format{Base.CodeUnits{UInt8, String}, Tuple{Printf.Spec{Val{'d'}}}}, args::Vector{Float64})\n",
      "   @ Printf ~/julia-1.9.2/share/julia/stdlib/v1.9/Printf/src/Printf.jl:876\n",
      " [4] top-level scope\n",
      "   @ ~/BosonStars/corona.ipynb:32"
     ]
    }
   ],
   "source": [
    "corona = LamppostCorona(height=10.0, theta_offset=1e-5, spectral_index = 2.0)\n",
    "configurations = VacuumETOConfigurations(spacetime=spacetime,\n",
    "                                   radiative_model = corona,\n",
    "                                   number_of_points=1,\n",
    "                                   number_of_packets_per_point = 1000000, \n",
    "                                   max_radius = 110.0,\n",
    "                                   unit_mass_in_solar_masses=1.0)\n",
    "initial_data = initialize_serial(configurations)\n",
    "cbp = callback_parameters(spacetime, disk, configurations)\n",
    "cb = callback(spacetime, disk)\n",
    "sim = integrate(initial_data, configurations, cb, cbp; method=VCABM(), reltol=1e-5, abstol=1e-5)\n",
    "output_data = sim.output_data\n",
    "at_source = map(position -> is_final_position_at_source(position, spacetime, disk) && position[3] ≈ π/2, eachcol(output_data))\n",
    "radii = output_data[2,at_source]\n",
    "q = energies_quotients(output_data[:,at_source], spacetime, disk)\n",
    "bins = radial_bins(disk, nbins=100)\n",
    "# bins = r_in*exp10.(range(0.0, stop=log10(r_out/r_in), length=100))\n",
    "A = ring_areas(bins, spacetime)\n",
    "γ = lorentz_factors(bins, spacetime, disk)\n",
    "h = fit(Histogram, radii, bins)\n",
    "h = normalize(h, mode=:probability)\n",
    "𝓝 = h.weights\n",
    "\n",
    "qavg = average_inside_radial_bins(q, radii, bins)\n",
    "\n",
    "Γ = corona.spectral_index\n",
    "n = 𝓝./(A.*γ)\n",
    "I = qavg.^Γ.*n\n",
    "\n",
    "bins_midpoints = 0.5*(bins[1:end-1] + bins[2:end])\n"
   ]
  },
  {
   "cell_type": "code",
   "execution_count": 46,
   "metadata": {},
   "outputs": [
    {
     "data": {
      "image/png": "[encoded data removed]"
     },
     "metadata": {},
     "output_type": "display_data"
    }
   ],
   "source": [
    "hstr = string(@sprintf(\"%02d\", corona.height))\n",
    "istr = string(@sprintf(\"%02d\", corona.spectral_index))\n",
    "filename = \"io/corona/bosonstar/$(modelname)$(modelid)_h$(hstr)_idx$(istr).txt\"\n",
    "open(filename, \"w\") do io\n",
    "    writedlm(io, [bins_midpoints I])\n",
    "end\n",
    "\n",
    "fig = Figure(resolution=(400,400))\n",
    "ax = Axis(fig[1,1])\n",
    "lines!(ax, bins_midpoints, I)\n",
    "ax.xscale = log10\n",
    "ax.yscale = log10\n",
    "# xlims!(1.0,200)\n",
    "# ylims!(1e-6, 1e0)\n",
    "ax.xtickformat = \"{:.1f}\"\n",
    "fig"
   ]
  },
  {
   "cell_type": "code",
   "execution_count": 43,
   "metadata": {},
   "outputs": [
    {
     "data": {
      "text/plain": [
       "31.5025"
      ]
     },
     "metadata": {},
     "output_type": "display_data"
    }
   ],
   "source": [
    "bins_midpoints[40]"
   ]
  },
  {
   "cell_type": "code",
   "execution_count": 45,
   "metadata": {},
   "outputs": [
    {
     "data": {
      "text/plain": [
       "StatsModels.TableRegressionModel{LinearModel{GLM.LmResp{Vector{Float64}}, GLM.DensePredChol{Float64, CholeskyPivoted{Float64, Matrix{Float64}, Vector{Int64}}}}, Matrix{Float64}}\n",
       "\n",
       "logI ~ 1 + logr\n",
       "\n",
       "Coefficients:\n",
       "──────────────────────────────────────────────────────────────────────────────\n",
       "                  Coef.  Std. Error        t  Pr(>|t|)   Lower 95%   Upper 95%\n",
       "──────────────────────────────────────────────────────────────────────────────\n",
       "(Intercept)  -0.0466288   0.0186558    -2.50    0.0150  -0.0838981  -0.0093596\n",
       "logr         -2.95576     0.0108885  -271.46    <1e-98  -2.97752    -2.93401\n",
       "──────────────────────────────────────────────────────────────────────────────"
      ]
     },
     "metadata": {},
     "output_type": "display_data"
    }
   ],
   "source": [
    "imin = 35\n",
    "df = DataFrame(logr = log10.(bins_midpoints[imin:end]), logI = log10.(I[imin:end]))\n",
    "ols = lm(@formula(logI ~ logr), df)"
   ]
  },
  {
   "cell_type": "markdown",
   "metadata": {},
   "source": [
    "Kerr black hole"
   ]
  },
  {
   "cell_type": "code",
   "execution_count": 21,
   "metadata": {},
   "outputs": [
    {
     "name": "stderr",
     "output_type": "stream",
     "text": [
      "┌ Warning: dt(2.3283064365386963e-10) <= dtmin(2.3283064365386963e-10) at t=0.0001007112978891871, and step error estimate = 1.7114279151537375. Aborting. There is either an error in your model specification or the true solution is unstable.\n",
      "└ @ SciMLBase /home/jpelle/.julia/packages/SciMLBase/qp2gL/src/integrator_interface.jl:599\n",
      "┌ Warning: dt(2.3283064365386963e-10) <= dtmin(2.3283064365386963e-10) at t=0.00010268615217823033, and step error estimate = 1.8184494778480798. Aborting. There is either an error in your model specification or the true solution is unstable.\n",
      "└ @ SciMLBase /home/jpelle/.julia/packages/SciMLBase/qp2gL/src/integrator_interface.jl:599\n",
      "┌ Warning: dt(2.3283064365386963e-10) <= dtmin(2.3283064365386963e-10) at t=0.00010441856516686471, and step error estimate = 0.922296242919113. Aborting. There is either an error in your model specification or the true solution is unstable.\n",
      "└ @ SciMLBase /home/jpelle/.julia/packages/SciMLBase/qp2gL/src/integrator_interface.jl:599\n",
      "┌ Warning: dt(2.3283064365386963e-10) <= dtmin(2.3283064365386963e-10) at t=0.0003190253642435104, and step error estimate = 0.804576974636365. Aborting. There is either an error in your model specification or the true solution is unstable.\n",
      "└ @ SciMLBase /home/jpelle/.julia/packages/SciMLBase/qp2gL/src/integrator_interface.jl:599\n",
      "┌ Warning: dt(2.3283064365386963e-10) <= dtmin(2.3283064365386963e-10) at t=0.00010453650870509215, and step error estimate = 2.441276253575134. Aborting. There is either an error in your model specification or the true solution is unstable.\n",
      "└ @ SciMLBase /home/jpelle/.julia/packages/SciMLBase/qp2gL/src/integrator_interface.jl:599\n",
      "┌ Warning: dt(2.3283064365386963e-10) <= dtmin(2.3283064365386963e-10) at t=0.000208085475446391, and step error estimate = 9.971730305862646. Aborting. There is either an error in your model specification or the true solution is unstable.\n",
      "└ @ SciMLBase /home/jpelle/.julia/packages/SciMLBase/qp2gL/src/integrator_interface.jl:599\n",
      "┌ Warning: dt(2.3283064365386963e-10) <= dtmin(2.3283064365386963e-10) at t=0.00011931458517800366, and step error estimate = 1.139421395108332. Aborting. There is either an error in your model specification or the true solution is unstable.\n",
      "└ @ SciMLBase /home/jpelle/.julia/packages/SciMLBase/qp2gL/src/integrator_interface.jl:599\n",
      "┌ Warning: dt(2.3283064365386963e-10) <= dtmin(2.3283064365386963e-10) at t=0.00010611049930424092, and step error estimate = 0.8578933588110256. Aborting. There is either an error in your model specification or the true solution is unstable.\n",
      "└ @ SciMLBase /home/jpelle/.julia/packages/SciMLBase/qp2gL/src/integrator_interface.jl:599\n",
      "┌ Warning: dt(2.3283064365386963e-10) <= dtmin(2.3283064365386963e-10) at t=0.00010987680965214028, and step error estimate = 0.5985649183734121. Aborting. There is either an error in your model specification or the true solution is unstable.\n",
      "└ @ SciMLBase /home/jpelle/.julia/packages/SciMLBase/qp2gL/src/integrator_interface.jl:599\n",
      "┌ Warning: dt(2.3283064365386963e-10) <= dtmin(2.3283064365386963e-10) at t=0.00014560236175641288, and step error estimate = 2.817539274949442. Aborting. There is either an error in your model specification or the true solution is unstable.\n",
      "└ @ SciMLBase /home/jpelle/.julia/packages/SciMLBase/qp2gL/src/integrator_interface.jl:599\n",
      "┌ Warning: dt(2.3283064365386963e-10) <= dtmin(2.3283064365386963e-10) at t=0.00011449040743552099, and step error estimate = 1.240476906978539. Aborting. There is either an error in your model specification or the true solution is unstable.\n",
      "└ @ SciMLBase /home/jpelle/.julia/packages/SciMLBase/qp2gL/src/integrator_interface.jl:599\n",
      "┌ Warning: dt(2.3283064365386963e-10) <= dtmin(2.3283064365386963e-10) at t=0.00010081786900658798, and step error estimate = 0.9383761012673312. Aborting. There is either an error in your model specification or the true solution is unstable.\n",
      "└ @ SciMLBase /home/jpelle/.julia/packages/SciMLBase/qp2gL/src/integrator_interface.jl:599\n"
     ]
    },
    {
     "name": "stdout",
     "output_type": "stream",
     "text": [
      "Equations integration stats:\n",
      "Wall clock time: 107.877295453 seconds\n",
      "Memory allocated: 322.862 GiB\n"
     ]
    },
    {
     "ename": "LoadError",
     "evalue": "LoadError: UndefVarError: `@sprintf` not defined\nin expression starting at /home/jpelle/BosonStars/corona.ipynb:34",
     "output_type": "error",
     "traceback": [
      "LoadError: UndefVarError: `@sprintf` not defined\n",
      "in expression starting at /home/jpelle/BosonStars/corona.ipynb:34\n"
     ]
    }
   ],
   "source": [
    "spacetime = KerrSpacetimeBoyerLindquistCoordinates(M=1.0,a=0.998)\n",
    "corona = LamppostCorona(height=10.0, theta_offset=1e-5, spectral_index = 2.0)\n",
    "configurations = VacuumETOConfigurations(spacetime=spacetime,\n",
    "                                   radiative_model = corona,\n",
    "                                   number_of_points=1,\n",
    "                                   number_of_packets_per_point = 1000000, \n",
    "                                   max_radius = 110.0,\n",
    "                                   unit_mass_in_solar_masses=1.0)\n",
    "initial_data = initialize_serial(configurations)\n",
    "disk = NovikovThorneDisk(inner_radius = isco_radius(spacetime, ProgradeRotation()), outer_radius = 100.0)\n",
    "cbp = callback_parameters(spacetime, disk, configurations; rhorizon_bound=2e-3)\n",
    "cb = callback(spacetime, disk)\n",
    "sim = integrate(initial_data, configurations, cb, cbp; method=VCABM(), reltol=1e-5, abstol=1e-5)\n",
    "output_data = sim.output_data\n",
    "at_source = map(position -> is_final_position_at_source(position, spacetime, disk) && position[3] ≈ π/2, eachcol(output_data))\n",
    "radii = output_data[2,at_source]\n",
    "q = energies_quotients(output_data[:,at_source], spacetime, disk)\n",
    "bins = radial_bins(disk, nbins=100)\n",
    "# bins = r_in*exp10.(range(0.0, stop=log10(r_out/r_in), length=100))\n",
    "A = ring_areas(bins, spacetime)\n",
    "γ = lorentz_factors(bins, spacetime, disk)\n",
    "h = fit(Histogram, radii, bins)\n",
    "h = normalize(h, mode=:probability)\n",
    "𝓝 = h.weights\n",
    "\n",
    "qavg = average_inside_radial_bins(q, radii, bins)\n",
    "\n",
    "Γ = corona.spectral_index\n",
    "n = 𝓝./(A.*γ)\n",
    "I = qavg.^Γ.*n\n",
    "\n",
    "bins_midpoints = 0.5*(bins[1:end-1] + bins[2:end])\n",
    "\n",
    "astr = string(@sprintf(\"%02d\", spacetime.a))\n",
    "hstr = string(@sprintf(\"%02d\", corona.height))\n",
    "istr = string(@sprintf(\"%02d\", corona.spectral_index))\n",
    "filename = \"io/corona/kerr/a$(astr)_h$(hstr)_idx$(istr).txt\"\n",
    "open(filename, \"w\") do io\n",
    "    writedlm(io, [bins_midpoints I])\n",
    "end\n",
    "\n",
    "fig = Figure(resolution=(400,400))\n",
    "ax = Axis(fig[1,1])\n",
    "lines!(ax, bins_midpoints, I)\n",
    "ax.xscale = log10\n",
    "ax.yscale = log10\n",
    "xlims!(1.0,200)\n",
    "ylims!(1e-6, 1e0)\n",
    "ax.xtickformat = \"{:.1f}\"\n",
    "fig"
   ]
  },
  {
   "cell_type": "code",
   "execution_count": 15,
   "metadata": {},
   "outputs": [
    {
     "data": {
      "text/plain": [
       "StatsModels.TableRegressionModel{LinearModel{GLM.LmResp{Vector{Float64}}, GLM.DensePredChol{Float64, CholeskyPivoted{Float64, Matrix{Float64}, Vector{Int64}}}}, Matrix{Float64}}\n",
       "\n",
       "logI ~ 1 + logr\n",
       "\n",
       "Coefficients:\n",
       "─────────────────────────────────────────────────────────────────────────────\n",
       "                 Coef.  Std. Error        t  Pr(>|t|)   Lower 95%   Upper 95%\n",
       "─────────────────────────────────────────────────────────────────────────────\n",
       "(Intercept)   0.020696  0.0154046      1.34    0.1883  -0.0106449   0.0520368\n",
       "logr         -2.99434   0.00856143  -349.75    <1e-59  -3.01175    -2.97692\n",
       "─────────────────────────────────────────────────────────────────────────────"
      ]
     },
     "metadata": {},
     "output_type": "display_data"
    }
   ],
   "source": [
    "df = DataFrame(logr = log10.(bins_midpoints[16:end]), logI = log10.(I[16:end]))\n",
    "ols = lm(@formula(logI ~ logr), df)"
   ]
  }
 ],
 "metadata": {
  "kernelspec": {
   "display_name": "Julia 1.9.2",
   "language": "julia",
   "name": "julia-1.9"
  },
  "language_info": {
   "file_extension": ".jl",
   "mimetype": "application/julia",
   "name": "julia",
   "version": "1.9.2"
  },
  "orig_nbformat": 4
 },
 "nbformat": 4,
 "nbformat_minor": 2
}
