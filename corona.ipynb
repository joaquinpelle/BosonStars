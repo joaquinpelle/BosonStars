{
 "cells": [
  {
   "cell_type": "code",
   "execution_count": 18,
   "metadata": {},
   "outputs": [
    {
     "name": "stderr",
     "output_type": "stream",
     "text": [
      "\u001b[32m\u001b[1m  Activating\u001b[22m\u001b[39m project at `~/BosonStars/BosonStars`\n"
     ]
    }
   ],
   "source": [
    "using Pkg\n",
    "Pkg.activate(\"BosonStars\")\n",
    "using Revise\n",
    "using Skylight\n",
    "using StatsBase\n",
    "using CairoMakie\n",
    "using LinearAlgebra\n",
    "using Printf\n",
    "using Colors\n",
    "using DataFrames\n",
    "using GLM\n",
    "using DelimitedFiles\n",
    "includet(\"corona.jl\")\n",
    "includet(\"ranges.jl\")\n",
    "includet(\"juliacolors.jl\")"
   ]
  },
  {
   "cell_type": "markdown",
   "metadata": {},
   "source": [
    "Boson star"
   ]
  },
  {
   "cell_type": "code",
   "execution_count": 4,
   "metadata": {},
   "outputs": [
    {
     "data": {
      "text/plain": [
       "AccretionDiskWithTabulatedTemperature{ProgradeRotation, DataInterpolations.LinearInterpolation{Vector{Float64}, Vector{Float64}, true, Float64}}\n",
       "  inner_radius: Float64 6.8\n",
       "  outer_radius: Float64 79.8\n",
       "  rotation_sense: ProgradeRotation ProgradeRotation()\n",
       "  filename: String \"tables/TempSBS3.dat\"\n",
       "  temperature_interpolator: DataInterpolations.LinearInterpolation{Vector{Float64}, Vector{Float64}, true, Float64}\n"
      ]
     },
     "metadata": {},
     "output_type": "display_data"
    }
   ],
   "source": [
    "modelname = \"SBS\"\n",
    "modelid = 3\n",
    "filenames = get_filenames(modelname)\n",
    "obs_configurations = load_configurations_from_hdf5(\"io/$(filenames[modelid,1]).h5\")\n",
    "spacetime = obs_configurations.spacetime\n",
    "disk = obs_configurations.radiative_model"
   ]
  },
  {
   "cell_type": "code",
   "execution_count": 6,
   "metadata": {},
   "outputs": [
    {
     "name": "stderr",
     "output_type": "stream",
     "text": [
      "┌ Warning: dt(2.3283064365386963e-10) <= dtmin(2.3283064365386963e-10) at t=9.529924133117953, and step error estimate = 1.0. Aborting. There is either an error in your model specification or the true solution is unstable.\n",
      "└ @ SciMLBase /home/jpelle/.julia/packages/SciMLBase/qp2gL/src/integrator_interface.jl:599\n",
      "┌ Warning: dt(2.3283064365386963e-10) <= dtmin(2.3283064365386963e-10) at t=9.558641890740876, and step error estimate = 1.245084453258875. Aborting. There is either an error in your model specification or the true solution is unstable.\n",
      "└ @ SciMLBase /home/jpelle/.julia/packages/SciMLBase/qp2gL/src/integrator_interface.jl:599\n",
      "┌ Warning: dt(2.3283064365386963e-10) <= dtmin(2.3283064365386963e-10) at t=0.00024271876623032916, and step error estimate = 1.0731246464318462. Aborting. There is either an error in your model specification or the true solution is unstable.\n",
      "└ @ SciMLBase /home/jpelle/.julia/packages/SciMLBase/qp2gL/src/integrator_interface.jl:599\n",
      "┌ Warning: dt(2.3283064365386963e-10) <= dtmin(2.3283064365386963e-10) at t=9.648945523424514, and step error estimate = 0.48429916660458844. Aborting. There is either an error in your model specification or the true solution is unstable.\n",
      "└ @ SciMLBase /home/jpelle/.julia/packages/SciMLBase/qp2gL/src/integrator_interface.jl:599\n",
      "┌ Warning: dt(2.3283064365386963e-10) <= dtmin(2.3283064365386963e-10) at t=15.984809662261807, and step error estimate = 17.81661642254817. Aborting. There is either an error in your model specification or the true solution is unstable.\n",
      "└ @ SciMLBase /home/jpelle/.julia/packages/SciMLBase/qp2gL/src/integrator_interface.jl:599\n",
      "┌ Warning: dt(2.3283064365386963e-10) <= dtmin(2.3283064365386963e-10) at t=0.00010058628265432059, and step error estimate = 1.0. Aborting. There is either an error in your model specification or the true solution is unstable.\n",
      "└ @ SciMLBase /home/jpelle/.julia/packages/SciMLBase/qp2gL/src/integrator_interface.jl:599\n",
      "┌ Warning: Instability detected. Aborting\n",
      "└ @ SciMLBase /home/jpelle/.julia/packages/SciMLBase/qp2gL/src/integrator_interface.jl:606\n"
     ]
    },
    {
     "name": "stderr",
     "output_type": "stream",
     "text": [
      "┌ Warning: dt(2.3283064365386963e-10) <= dtmin(2.3283064365386963e-10) at t=10.878283184855784, and step error estimate = 1.618184507237707. Aborting. There is either an error in your model specification or the true solution is unstable.\n",
      "└ @ SciMLBase /home/jpelle/.julia/packages/SciMLBase/qp2gL/src/integrator_interface.jl:599\n",
      "┌ Warning: dt(2.3283064365386963e-10) <= dtmin(2.3283064365386963e-10) at t=9.88266925808946, and step error estimate = 0.6975184849302537. Aborting. There is either an error in your model specification or the true solution is unstable.\n",
      "└ @ SciMLBase /home/jpelle/.julia/packages/SciMLBase/qp2gL/src/integrator_interface.jl:599\n",
      "┌ Warning: Instability detected. Aborting\n",
      "└ @ SciMLBase /home/jpelle/.julia/packages/SciMLBase/qp2gL/src/integrator_interface.jl:606\n",
      "┌ Warning: dt(2.3283064365386963e-10) <= dtmin(2.3283064365386963e-10) at t=10.533924747737064, and step error estimate = 0.8450933146296782. Aborting. There is either an error in your model specification or the true solution is unstable.\n",
      "└ @ SciMLBase /home/jpelle/.julia/packages/SciMLBase/qp2gL/src/integrator_interface.jl:599\n",
      "┌ Warning: Instability detected. Aborting\n",
      "└ @ SciMLBase /home/jpelle/.julia/packages/SciMLBase/qp2gL/src/integrator_interface.jl:606\n",
      "┌ Warning: Instability detected. Aborting\n",
      "└ @ SciMLBase /home/jpelle/.julia/packages/SciMLBase/qp2gL/src/integrator_interface.jl:606\n"
     ]
    },
    {
     "name": "stderr",
     "output_type": "stream",
     "text": [
      "┌ Warning: dt(2.3283064365386963e-10) <= dtmin(2.3283064365386963e-10) at t=9.59668390950537, and step error estimate = 0.7449208761330055. Aborting. There is either an error in your model specification or the true solution is unstable.\n",
      "└ @ SciMLBase /home/jpelle/.julia/packages/SciMLBase/qp2gL/src/integrator_interface.jl:599\n",
      "┌ Warning: dt(2.3283064365386963e-10) <= dtmin(2.3283064365386963e-10) at t=11.38426076522808, and step error estimate = 1.379730771241342. Aborting. There is either an error in your model specification or the true solution is unstable.\n",
      "└ @ SciMLBase /home/jpelle/.julia/packages/SciMLBase/qp2gL/src/integrator_interface.jl:599\n",
      "┌ Warning: dt(2.3283064365386963e-10) <= dtmin(2.3283064365386963e-10) at t=11.237833571377056, and step error estimate = NaN. Aborting. There is either an error in your model specification or the true solution is unstable.\n",
      "└ @ SciMLBase /home/jpelle/.julia/packages/SciMLBase/qp2gL/src/integrator_interface.jl:599\n",
      "┌ Warning: dt(2.3283064365386963e-10) <= dtmin(2.3283064365386963e-10) at t=0.00020989990674728274, and step error estimate = 0.8543824988221778. Aborting. There is either an error in your model specification or the true solution is unstable.\n",
      "└ @ SciMLBase /home/jpelle/.julia/packages/SciMLBase/qp2gL/src/integrator_interface.jl:599\n",
      "┌ Warning: dt(2.3283064365386963e-10) <= dtmin(2.3283064365386963e-10) at t=9.863816956970844, and step error estimate = 1.1185054849366205. Aborting. There is either an error in your model specification or the true solution is unstable.\n",
      "└ @ SciMLBase /home/jpelle/.julia/packages/SciMLBase/qp2gL/src/integrator_interface.jl:599\n",
      "┌ Warning: dt(2.3283064365386963e-10) <= dtmin(2.3283064365386963e-10) at t=0.00016246443788795321, and step error estimate = 0.3860900249549598. Aborting. There is either an error in your model specification or the true solution is unstable.\n",
      "└ @ SciMLBase /home/jpelle/.julia/packages/SciMLBase/qp2gL/src/integrator_interface.jl:599\n",
      "┌ Warning: Interrupted. Larger maxiters is needed. If you are using an integrator for non-stiff ODEs or an automatic switching algorithm (the default), you may want to consider using a method for stiff equations. See the solver pages for more details (e.g. https://docs.sciml.ai/DiffEqDocs/stable/solvers/ode_solve/#Stiff-Problems).\n",
      "└ @ SciMLBase /home/jpelle/.julia/packages/SciMLBase/qp2gL/src/integrator_interface.jl:580\n",
      "┌ Warning: dt(2.3283064365386963e-10) <= dtmin(2.3283064365386963e-10) at t=15.649587373552684, and step error estimate = 1.1291863715378667. Aborting. There is either an error in your model specification or the true solution is unstable.\n",
      "└ @ SciMLBase /home/jpelle/.julia/packages/SciMLBase/qp2gL/src/integrator_interface.jl:599\n",
      "┌ Warning: dt(2.3283064365386963e-10) <= dtmin(2.3283064365386963e-10) at t=32.723265585474124, and step error estimate = 1.3931978398550373. Aborting. There is either an error in your model specification or the true solution is unstable.\n",
      "└ @ SciMLBase /home/jpelle/.julia/packages/SciMLBase/qp2gL/src/integrator_interface.jl:599\n",
      "┌ Warning: Interrupted. Larger maxiters is needed. If you are using an integrator for non-stiff ODEs or an automatic switching algorithm (the default), you may want to consider using a method for stiff equations. See the solver pages for more details (e.g. https://docs.sciml.ai/DiffEqDocs/stable/solvers/ode_solve/#Stiff-Problems).\n",
      "└ @ SciMLBase /home/jpelle/.julia/packages/SciMLBase/qp2gL/src/integrator_interface.jl:580\n",
      "┌ Warning: dt(2.3283064365386963e-10) <= dtmin(2.3283064365386963e-10) at t=11.22827026421141, and step error estimate = 0.9361768992314362. Aborting. There is either an error in your model specification or the true solution is unstable.\n",
      "└ @ SciMLBase /home/jpelle/.julia/packages/SciMLBase/qp2gL/src/integrator_interface.jl:599\n",
      "┌ Warning: dt(2.3283064365386963e-10) <= dtmin(2.3283064365386963e-10) at t=10.34253066717141, and step error estimate = 0.7600192603189773. Aborting. There is either an error in your model specification or the true solution is unstable.\n",
      "└ @ SciMLBase /home/jpelle/.julia/packages/SciMLBase/qp2gL/src/integrator_interface.jl:599\n",
      "┌ Warning: dt(2.3283064365386963e-10) <= dtmin(2.3283064365386963e-10) at t=0.00010254635289117438, and step error estimate = 1.0. Aborting. There is either an error in your model specification or the true solution is unstable.\n",
      "└ @ SciMLBase /home/jpelle/.julia/packages/SciMLBase/qp2gL/src/integrator_interface.jl:599\n",
      "┌ Warning: Instability detected. Aborting\n",
      "└ @ SciMLBase /home/jpelle/.julia/packages/SciMLBase/qp2gL/src/integrator_interface.jl:606\n",
      "┌ Warning: dt(2.3283064365386963e-10) <= dtmin(2.3283064365386963e-10) at t=12.01714162611032, and step error estimate = 1.8991748260706238. Aborting. There is either an error in your model specification or the true solution is unstable.\n",
      "└ @ SciMLBase /home/jpelle/.julia/packages/SciMLBase/qp2gL/src/integrator_interface.jl:599\n",
      "┌ Warning: Instability detected. Aborting\n",
      "└ @ SciMLBase /home/jpelle/.julia/packages/SciMLBase/qp2gL/src/integrator_interface.jl:606\n",
      "┌ Warning: dt(2.3283064365386963e-10) <= dtmin(2.3283064365386963e-10) at t=0.00012198466258649869, and step error estimate = 2.3710174796855714. Aborting. There is either an error in your model specification or the true solution is unstable.\n",
      "└ @ SciMLBase /home/jpelle/.julia/packages/SciMLBase/qp2gL/src/integrator_interface.jl:599\n",
      "┌ Warning: dt(2.3283064365386963e-10) <= dtmin(2.3283064365386963e-10) at t=10.307640765958507, and step error estimate = 4.794311184264784. Aborting. There is either an error in your model specification or the true solution is unstable.\n",
      "└ @ SciMLBase /home/jpelle/.julia/packages/SciMLBase/qp2gL/src/integrator_interface.jl:599\n",
      "┌ Warning: dt(2.3283064365386963e-10) <= dtmin(2.3283064365386963e-10) at t=0.00011062888521000938, and step error estimate = 0.8586502248228847. Aborting. There is either an error in your model specification or the true solution is unstable.\n",
      "└ @ SciMLBase /home/jpelle/.julia/packages/SciMLBase/qp2gL/src/integrator_interface.jl:599\n",
      "┌ Warning: dt(2.3283064365386963e-10) <= dtmin(2.3283064365386963e-10) at t=11.384576620767197, and step error estimate = NaN. Aborting. There is either an error in your model specification or the true solution is unstable.\n",
      "└ @ SciMLBase /home/jpelle/.julia/packages/SciMLBase/qp2gL/src/integrator_interface.jl:599\n",
      "┌ Warning: Instability detected. Aborting\n",
      "└ @ SciMLBase /home/jpelle/.julia/packages/SciMLBase/qp2gL/src/integrator_interface.jl:606\n",
      "┌ Warning: dt(2.3283064365386963e-10) <= dtmin(2.3283064365386963e-10) at t=10.4869008188277, and step error estimate = 1.331175280613943. Aborting. There is either an error in your model specification or the true solution is unstable.\n",
      "└ @ SciMLBase /home/jpelle/.julia/packages/SciMLBase/qp2gL/src/integrator_interface.jl:599\n",
      "┌ Warning: dt(2.3283064365386963e-10) <= dtmin(2.3283064365386963e-10) at t=0.00010362963646029402, and step error estimate = 1.0470463003914297. Aborting. There is either an error in your model specification or the true solution is unstable.\n",
      "└ @ SciMLBase /home/jpelle/.julia/packages/SciMLBase/qp2gL/src/integrator_interface.jl:599\n",
      "┌ Warning: dt(2.3283064365386963e-10) <= dtmin(2.3283064365386963e-10) at t=11.236687611328335, and step error estimate = 1.193787396609967. Aborting. There is either an error in your model specification or the true solution is unstable.\n",
      "└ @ SciMLBase /home/jpelle/.julia/packages/SciMLBase/qp2gL/src/integrator_interface.jl:599\n",
      "┌ Warning: Instability detected. Aborting\n",
      "└ @ SciMLBase /home/jpelle/.julia/packages/SciMLBase/qp2gL/src/integrator_interface.jl:606\n",
      "┌ Warning: dt(2.3283064365386963e-10) <= dtmin(2.3283064365386963e-10) at t=9.928842553029327, and step error estimate = 0.6929223182027525. Aborting. There is either an error in your model specification or the true solution is unstable.\n",
      "└ @ SciMLBase /home/jpelle/.julia/packages/SciMLBase/qp2gL/src/integrator_interface.jl:599\n",
      "┌ Warning: dt(2.3283064365386963e-10) <= dtmin(2.3283064365386963e-10) at t=9.530837446894752, and step error estimate = 3.2458669479043274. Aborting. There is either an error in your model specification or the true solution is unstable.\n",
      "└ @ SciMLBase /home/jpelle/.julia/packages/SciMLBase/qp2gL/src/integrator_interface.jl:599\n",
      "┌ Warning: dt(2.3283064365386963e-10) <= dtmin(2.3283064365386963e-10) at t=9.83142355937591, and step error estimate = 1.511290319786439. Aborting. There is either an error in your model specification or the true solution is unstable.\n",
      "└ @ SciMLBase /home/jpelle/.julia/packages/SciMLBase/qp2gL/src/integrator_interface.jl:599\n",
      "┌ Warning: dt(2.3283064365386963e-10) <= dtmin(2.3283064365386963e-10) at t=11.116021132509639, and step error estimate = 0.8634907437600744. Aborting. There is either an error in your model specification or the true solution is unstable.\n",
      "└ @ SciMLBase /home/jpelle/.julia/packages/SciMLBase/qp2gL/src/integrator_interface.jl:599\n",
      "┌ Warning: Instability detected. Aborting\n",
      "└ @ SciMLBase /home/jpelle/.julia/packages/SciMLBase/qp2gL/src/integrator_interface.jl:606\n",
      "┌ Warning: Instability detected. Aborting\n",
      "└ @ SciMLBase /home/jpelle/.julia/packages/SciMLBase/qp2gL/src/integrator_interface.jl:606\n",
      "┌ Warning: dt(2.3283064365386963e-10) <= dtmin(2.3283064365386963e-10) at t=10.107438369005969, and step error estimate = 0.9314977928522394. Aborting. There is either an error in your model specification or the true solution is unstable.\n",
      "└ @ SciMLBase /home/jpelle/.julia/packages/SciMLBase/qp2gL/src/integrator_interface.jl:599\n",
      "┌ Warning: dt(2.3283064365386963e-10) <= dtmin(2.3283064365386963e-10) at t=9.56694851097987, and step error estimate = 0.8988877561005215. Aborting. There is either an error in your model specification or the true solution is unstable.\n",
      "└ @ SciMLBase /home/jpelle/.julia/packages/SciMLBase/qp2gL/src/integrator_interface.jl:599\n",
      "┌ Warning: dt(2.3283064365386963e-10) <= dtmin(2.3283064365386963e-10) at t=10.296916731501419, and step error estimate = 0.7312097503429625. Aborting. There is either an error in your model specification or the true solution is unstable.\n",
      "└ @ SciMLBase /home/jpelle/.julia/packages/SciMLBase/qp2gL/src/integrator_interface.jl:599\n",
      "┌ Warning: Instability detected. Aborting\n",
      "└ @ SciMLBase /home/jpelle/.julia/packages/SciMLBase/qp2gL/src/integrator_interface.jl:606\n",
      "┌ Warning: dt(2.3283064365386963e-10) <= dtmin(2.3283064365386963e-10) at t=9.794785654874778, and step error estimate = 0.8323611898904316. Aborting. There is either an error in your model specification or the true solution is unstable.\n",
      "└ @ SciMLBase /home/jpelle/.julia/packages/SciMLBase/qp2gL/src/integrator_interface.jl:599\n",
      "┌ Warning: dt(2.3283064365386963e-10) <= dtmin(2.3283064365386963e-10) at t=10.346391637745104, and step error estimate = 0.6431673295233276. Aborting. There is either an error in your model specification or the true solution is unstable.\n",
      "└ @ SciMLBase /home/jpelle/.julia/packages/SciMLBase/qp2gL/src/integrator_interface.jl:599\n",
      "┌ Warning: dt(2.3283064365386963e-10) <= dtmin(2.3283064365386963e-10) at t=9.803060316892386, and step error estimate = 0.4496261480680206. Aborting. There is either an error in your model specification or the true solution is unstable.\n",
      "└ @ SciMLBase /home/jpelle/.julia/packages/SciMLBase/qp2gL/src/integrator_interface.jl:599\n",
      "┌ Warning: dt(2.3283064365386963e-10) <= dtmin(2.3283064365386963e-10) at t=9.878918786495577, and step error estimate = 1.0. Aborting. There is either an error in your model specification or the true solution is unstable.\n",
      "└ @ SciMLBase /home/jpelle/.julia/packages/SciMLBase/qp2gL/src/integrator_interface.jl:599\n",
      "┌ Warning: dt(2.3283064365386963e-10) <= dtmin(2.3283064365386963e-10) at t=10.865905493754436, and step error estimate = 129.18948658119064. Aborting. There is either an error in your model specification or the true solution is unstable.\n",
      "└ @ SciMLBase /home/jpelle/.julia/packages/SciMLBase/qp2gL/src/integrator_interface.jl:599\n",
      "┌ Warning: dt(2.3283064365386963e-10) <= dtmin(2.3283064365386963e-10) at t=10.154421168000164, and step error estimate = 1.0. Aborting. There is either an error in your model specification or the true solution is unstable.\n",
      "└ @ SciMLBase /home/jpelle/.julia/packages/SciMLBase/qp2gL/src/integrator_interface.jl:599\n",
      "┌ Warning: dt(2.3283064365386963e-10) <= dtmin(2.3283064365386963e-10) at t=10.64800056242119, and step error estimate = 2.0886734700246263. Aborting. There is either an error in your model specification or the true solution is unstable.\n",
      "└ @ SciMLBase /home/jpelle/.julia/packages/SciMLBase/qp2gL/src/integrator_interface.jl:599\n",
      "┌ Warning: dt(2.3283064365386963e-10) <= dtmin(2.3283064365386963e-10) at t=9.807848042725931, and step error estimate = 1.7789825177692582. Aborting. There is either an error in your model specification or the true solution is unstable.\n",
      "└ @ SciMLBase /home/jpelle/.julia/packages/SciMLBase/qp2gL/src/integrator_interface.jl:599\n",
      "┌ Warning: Instability detected. Aborting\n",
      "└ @ SciMLBase /home/jpelle/.julia/packages/SciMLBase/qp2gL/src/integrator_interface.jl:606\n",
      "┌ Warning: dt(2.3283064365386963e-10) <= dtmin(2.3283064365386963e-10) at t=10.159787865181574, and step error estimate = 13.460249607557447. Aborting. There is either an error in your model specification or the true solution is unstable.\n",
      "└ @ SciMLBase /home/jpelle/.julia/packages/SciMLBase/qp2gL/src/integrator_interface.jl:599\n",
      "┌ Warning: dt(2.3283064365386963e-10) <= dtmin(2.3283064365386963e-10) at t=10.554956801363355, and step error estimate = 1.2129533412187659. Aborting. There is either an error in your model specification or the true solution is unstable.\n",
      "└ @ SciMLBase /home/jpelle/.julia/packages/SciMLBase/qp2gL/src/integrator_interface.jl:599\n"
     ]
    },
    {
     "name": "stderr",
     "output_type": "stream",
     "text": [
      "┌ Warning: dt(2.3283064365386963e-10) <= dtmin(2.3283064365386963e-10) at t=0.00010143407577185795, and step error estimate = 0.9622173655985143. Aborting. There is either an error in your model specification or the true solution is unstable.\n",
      "└ @ SciMLBase /home/jpelle/.julia/packages/SciMLBase/qp2gL/src/integrator_interface.jl:599\n",
      "┌ Warning: dt(2.3283064365386963e-10) <= dtmin(2.3283064365386963e-10) at t=10.067956399580819, and step error estimate = 1.0. Aborting. There is either an error in your model specification or the true solution is unstable.\n",
      "└ @ SciMLBase /home/jpelle/.julia/packages/SciMLBase/qp2gL/src/integrator_interface.jl:599\n",
      "┌ Warning: Instability detected. Aborting\n",
      "└ @ SciMLBase /home/jpelle/.julia/packages/SciMLBase/qp2gL/src/integrator_interface.jl:606\n",
      "┌ Warning: dt(2.3283064365386963e-10) <= dtmin(2.3283064365386963e-10) at t=10.295068136673185, and step error estimate = 1.1543275921021519. Aborting. There is either an error in your model specification or the true solution is unstable.\n",
      "└ @ SciMLBase /home/jpelle/.julia/packages/SciMLBase/qp2gL/src/integrator_interface.jl:599\n",
      "┌ Warning: dt(2.3283064365386963e-10) <= dtmin(2.3283064365386963e-10) at t=12.058649346327286, and step error estimate = 2.784520004888719. Aborting. There is either an error in your model specification or the true solution is unstable.\n",
      "└ @ SciMLBase /home/jpelle/.julia/packages/SciMLBase/qp2gL/src/integrator_interface.jl:599\n",
      "┌ Warning: dt(2.3283064365386963e-10) <= dtmin(2.3283064365386963e-10) at t=9.76065219563293, and step error estimate = 2.6589610012794984. Aborting. There is either an error in your model specification or the true solution is unstable.\n",
      "└ @ SciMLBase /home/jpelle/.julia/packages/SciMLBase/qp2gL/src/integrator_interface.jl:599\n",
      "┌ Warning: dt(2.3283064365386963e-10) <= dtmin(2.3283064365386963e-10) at t=10.248695991293078, and step error estimate = 0.44351618863307657. Aborting. There is either an error in your model specification or the true solution is unstable.\n",
      "└ @ SciMLBase /home/jpelle/.julia/packages/SciMLBase/qp2gL/src/integrator_interface.jl:599\n",
      "┌ Warning: dt(2.3283064365386963e-10) <= dtmin(2.3283064365386963e-10) at t=10.029922702675316, and step error estimate = 1.00700737822442. Aborting. There is either an error in your model specification or the true solution is unstable.\n",
      "└ @ SciMLBase /home/jpelle/.julia/packages/SciMLBase/qp2gL/src/integrator_interface.jl:599\n",
      "┌ Warning: dt(2.3283064365386963e-10) <= dtmin(2.3283064365386963e-10) at t=10.860440788012665, and step error estimate = NaN. Aborting. There is either an error in your model specification or the true solution is unstable.\n",
      "└ @ SciMLBase /home/jpelle/.julia/packages/SciMLBase/qp2gL/src/integrator_interface.jl:599\n",
      "┌ Warning: dt(2.3283064365386963e-10) <= dtmin(2.3283064365386963e-10) at t=10.620088452657379, and step error estimate = 1.6579495056215248. Aborting. There is either an error in your model specification or the true solution is unstable.\n",
      "└ @ SciMLBase /home/jpelle/.julia/packages/SciMLBase/qp2gL/src/integrator_interface.jl:599\n",
      "┌ Warning: dt(2.3283064365386963e-10) <= dtmin(2.3283064365386963e-10) at t=9.703349205057853, and step error estimate = 1.1801545407503224. Aborting. There is either an error in your model specification or the true solution is unstable.\n",
      "└ @ SciMLBase /home/jpelle/.julia/packages/SciMLBase/qp2gL/src/integrator_interface.jl:599\n"
     ]
    },
    {
     "name": "stderr",
     "output_type": "stream",
     "text": [
      "┌ Warning: dt(2.3283064365386963e-10) <= dtmin(2.3283064365386963e-10) at t=11.43295936538838, and step error estimate = 1.5167126291198418. Aborting. There is either an error in your model specification or the true solution is unstable.\n",
      "└ @ SciMLBase /home/jpelle/.julia/packages/SciMLBase/qp2gL/src/integrator_interface.jl:599\n"
     ]
    },
    {
     "name": "stderr",
     "output_type": "stream",
     "text": [
      "┌ Warning: dt(2.3283064365386963e-10) <= dtmin(2.3283064365386963e-10) at t=9.982863909713917, and step error estimate = 0.983891590531476. Aborting. There is either an error in your model specification or the true solution is unstable.\n",
      "└ @ SciMLBase /home/jpelle/.julia/packages/SciMLBase/qp2gL/src/integrator_interface.jl:599\n"
     ]
    },
    {
     "name": "stderr",
     "output_type": "stream",
     "text": [
      "┌ Warning: Interrupted. Larger maxiters is needed. If you are using an integrator for non-stiff ODEs or an automatic switching algorithm (the default), you may want to consider using a method for stiff equations. See the solver pages for more details (e.g. https://docs.sciml.ai/DiffEqDocs/stable/solvers/ode_solve/#Stiff-Problems).\n",
      "└ @ SciMLBase /home/jpelle/.julia/packages/SciMLBase/qp2gL/src/integrator_interface.jl:580\n"
     ]
    },
    {
     "name": "stdout",
     "output_type": "stream",
     "text": [
      "Equations integration stats:\n",
      "Wall clock time: 54.367386758 seconds\n",
      "Memory allocated: 136.080 GiB\n"
     ]
    },
    {
     "ename": "CompositeException",
     "evalue": "TaskFailedException\n\n    nested task error: UndefVarError: `emitter_four_velocity!` not defined\n    Stacktrace:\n     [1] macro expansion\n       @ ~/BosonStars/corona.jl:56 [inlined]\n     [2] (::var\"#20#22\"{UnitRange{Int64}, Matrix{Float64}, BosonStarSpacetime, AccretionDiskWithTabulatedTemperature{ProgradeRotation, DataInterpolations.LinearInterpolation{Vector{Float64}, Vector{Float64}, true, Float64}}, Vector{Float64}, SphericalTopology})()\n       @ Main ./threadingconstructs.jl:404\n\n...and 112 more exceptions.\n",
     "output_type": "error",
     "traceback": [
      "TaskFailedException\n",
      "\n",
      "    nested task error: UndefVarError: `emitter_four_velocity!` not defined\n",
      "    Stacktrace:\n",
      "     [1] macro expansion\n",
      "       @ ~/BosonStars/corona.jl:56 [inlined]\n",
      "     [2] (::var\"#20#22\"{UnitRange{Int64}, Matrix{Float64}, BosonStarSpacetime, AccretionDiskWithTabulatedTemperature{ProgradeRotation, DataInterpolations.LinearInterpolation{Vector{Float64}, Vector{Float64}, true, Float64}}, Vector{Float64}, SphericalTopology})()\n",
      "       @ Main ./threadingconstructs.jl:404\n",
      "\n",
      "...and 112 more exceptions.\n",
      "\n",
      "\n",
      "Stacktrace:\n",
      " [1] sync_end(c::Channel{Any})\n",
      "   @ Base ./task.jl:445\n",
      " [2] macro expansion\n",
      "   @ ./task.jl:477 [inlined]\n",
      " [3] energies_quotients(data::Matrix{Float64}, spacetime::BosonStarSpacetime, disk::AccretionDiskWithTabulatedTemperature{ProgradeRotation, DataInterpolations.LinearInterpolation{Vector{Float64}, Vector{Float64}, true, Float64}})\n",
      "   @ Main ~/BosonStars/corona.jl:46\n",
      " [4] top-level scope\n",
      "   @ ~/BosonStars/corona.ipynb:15"
     ]
    }
   ],
   "source": [
    "corona = LamppostCorona(height=10.0, theta_offset=1e-5, spectral_index = 2.0)\n",
    "configurations = VacuumETOConfigurations(spacetime=spacetime,\n",
    "                                   radiative_model = corona,\n",
    "                                   number_of_points=1,\n",
    "                                   number_of_packets_per_point = 1000000, \n",
    "                                   max_radius = 110.0,\n",
    "                                   unit_mass_in_solar_masses=1.0)\n",
    "initial_data = initialize(configurations)\n",
    "cbp = callback_parameters(spacetime, disk, configurations)\n",
    "cb = callback(spacetime, disk)\n",
    "sim = integrate(initial_data, configurations, cb, cbp; method=VCABM(), reltol=1e-5, abstol=1e-5)\n",
    "output_data = sim.output_data\n",
    "at_source = map(position -> is_final_position_at_source(position, spacetime, disk) && position[3] ≈ π/2, eachcol(output_data))\n",
    "radii = output_data[2,at_source]\n",
    "q = energies_quotients(output_data[:,at_source], spacetime, disk)\n"
   ]
  },
  {
   "cell_type": "code",
   "execution_count": 14,
   "metadata": {},
   "outputs": [],
   "source": [
    "# bins = radial_bins(disk, nbins=100)\n",
    "bins = range(cbrt(disk.inner_radius), stop=cbrt(disk.outer_radius), length=50).^3\n",
    "A = ring_areas(bins, spacetime)\n",
    "γ = lorentz_factors(bins, spacetime, disk)\n",
    "h = fit(Histogram, radii, bins)\n",
    "h = normalize(h, mode=:probability)\n",
    "𝓝 = h.weights\n",
    "\n",
    "qavg = average_inside_radial_bins(q, radii, bins)\n",
    "\n",
    "Γ = corona.spectral_index\n",
    "n = 𝓝./(A.*γ)\n",
    "I = qavg.^Γ.*n\n",
    "\n",
    "bins_midpoints = 0.5*(bins[1:end-1] + bins[2:end])\n",
    "nothing"
   ]
  },
  {
   "cell_type": "code",
   "execution_count": 61,
   "metadata": {},
   "outputs": [
    {
     "data": {
      "image/png": "[encoded data removed]"
     },
     "metadata": {},
     "output_type": "display_data"
    }
   ],
   "source": [
    "hstr = string(@sprintf(\"%02d\", corona.height))\n",
    "istr = string(@sprintf(\"%02d\", corona.spectral_index))\n",
    "filename = \"io/corona/bosonstar/$(modelname)$(modelid)_h$(hstr)_idx$(istr).txt\"\n",
    "open(filename, \"w\") do io\n",
    "    writedlm(io, [bins_midpoints I])\n",
    "end\n"
   ]
  },
  {
   "cell_type": "code",
   "execution_count": 15,
   "metadata": {},
   "outputs": [
    {
     "data": {
      "image/png": "[encoded data removed]"
     },
     "metadata": {},
     "output_type": "display_data"
    }
   ],
   "source": [
    "\n",
    "fig = Figure(resolution=(400,400))\n",
    "ax = Axis(fig[1,1])\n",
    "lines!(ax, bins_midpoints, I)\n",
    "ax.xscale = log10\n",
    "ax.yscale = log10\n",
    "# xlims!(1.0,200)\n",
    "# ylims!(1e-6, 1e0)\n",
    "ax.xtickformat = \"{:.1f}\"\n",
    "fig"
   ]
  },
  {
   "cell_type": "code",
   "execution_count": null,
   "metadata": {},
   "outputs": [
    {
     "data": {
      "image/png": "[encoded data removed]"
     },
     "metadata": {},
     "output_type": "display_data"
    }
   ],
   "source": [
    "hstr = string(@sprintf(\"%02d\", corona.height))\n",
    "istr = string(@sprintf(\"%02d\", corona.spectral_index))\n",
    "filename = \"io/corona/bosonstar/$(modelname)$(modelid)_h$(hstr)_idx$(istr).txt\"\n",
    "open(filename, \"w\") do io\n",
    "    writedlm(io, [bins_midpoints I])\n",
    "end\n",
    "\n",
    "fig = Figure(resolution=(400,400))\n",
    "ax = Axis(fig[1,1])\n",
    "lines!(ax, bins_midpoints, I)\n",
    "ax.xscale = log10\n",
    "ax.yscale = log10\n",
    "# xlims!(1.0,200)\n",
    "# ylims!(1e-6, 1e0)\n",
    "ax.xtickformat = \"{:.1f}\"\n",
    "fig"
   ]
  },
  {
   "cell_type": "code",
   "execution_count": 43,
   "metadata": {},
   "outputs": [
    {
     "data": {
      "text/plain": [
       "31.5025"
      ]
     },
     "metadata": {},
     "output_type": "display_data"
    }
   ],
   "source": [
    "bins_midpoints[40]"
   ]
  },
  {
   "cell_type": "code",
   "execution_count": 62,
   "metadata": {},
   "outputs": [
    {
     "data": {
      "text/plain": [
       "StatsModels.TableRegressionModel{LinearModel{GLM.LmResp{Vector{Float64}}, GLM.DensePredChol{Float64, CholeskyPivoted{Float64, Matrix{Float64}, Vector{Int64}}}}, Matrix{Float64}}\n",
       "\n",
       "logI ~ 1 + logr\n",
       "\n",
       "Coefficients:\n",
       "───────────────────────────────────────────────────────────────────────────\n",
       "                 Coef.  Std. Error        t  Pr(>|t|)  Lower 95%  Upper 95%\n",
       "───────────────────────────────────────────────────────────────────────────\n",
       "(Intercept)   0.155585   0.0211157     7.37    <1e-06   0.111903   0.199266\n",
       "logr         -3.00162    0.0124221  -241.64    <1e-39  -3.02732   -2.97592\n",
       "───────────────────────────────────────────────────────────────────────────"
      ]
     },
     "metadata": {},
     "output_type": "display_data"
    }
   ],
   "source": [
    "imin = 25\n",
    "df = DataFrame(logr = log10.(bins_midpoints[imin:end]), logI = log10.(I[imin:end]))\n",
    "ols = lm(@formula(logI ~ logr), df)"
   ]
  },
  {
   "cell_type": "markdown",
   "metadata": {},
   "source": [
    "Kerr black hole"
   ]
  },
  {
   "cell_type": "code",
   "execution_count": 19,
   "metadata": {},
   "outputs": [
    {
     "name": "stderr",
     "output_type": "stream",
     "text": [
      "┌ Warning: dt(2.3283064365386963e-10) <= dtmin(2.3283064365386963e-10) at t=0.00011984470121781236, and step error estimate = 2.791249774119194. Aborting. There is either an error in your model specification or the true solution is unstable.\n",
      "└ @ SciMLBase /home/jpelle/.julia/packages/SciMLBase/qp2gL/src/integrator_interface.jl:599\n",
      "┌ Warning: dt(2.3283064365386963e-10) <= dtmin(2.3283064365386963e-10) at t=0.00010804074891251015, and step error estimate = 2.793672084003822. Aborting. There is either an error in your model specification or the true solution is unstable.\n",
      "└ @ SciMLBase /home/jpelle/.julia/packages/SciMLBase/qp2gL/src/integrator_interface.jl:599\n",
      "┌ Warning: dt(2.3283064365386963e-10) <= dtmin(2.3283064365386963e-10) at t=0.00012394410918342014, and step error estimate = 1.3251364362449116. Aborting. There is either an error in your model specification or the true solution is unstable.\n",
      "└ @ SciMLBase /home/jpelle/.julia/packages/SciMLBase/qp2gL/src/integrator_interface.jl:599\n",
      "┌ Warning: dt(2.3283064365386963e-10) <= dtmin(2.3283064365386963e-10) at t=0.0003279669924858597, and step error estimate = 1.2789191016878179. Aborting. There is either an error in your model specification or the true solution is unstable.\n",
      "└ @ SciMLBase /home/jpelle/.julia/packages/SciMLBase/qp2gL/src/integrator_interface.jl:599\n",
      "┌ Warning: dt(2.3283064365386963e-10) <= dtmin(2.3283064365386963e-10) at t=0.00010421320293288355, and step error estimate = 0.7875879357714474. Aborting. There is either an error in your model specification or the true solution is unstable.\n",
      "└ @ SciMLBase /home/jpelle/.julia/packages/SciMLBase/qp2gL/src/integrator_interface.jl:599\n",
      "┌ Warning: dt(2.3283064365386963e-10) <= dtmin(2.3283064365386963e-10) at t=0.00012338566413103467, and step error estimate = 1.1152469180518694. Aborting. There is either an error in your model specification or the true solution is unstable.\n",
      "└ @ SciMLBase /home/jpelle/.julia/packages/SciMLBase/qp2gL/src/integrator_interface.jl:599\n"
     ]
    },
    {
     "name": "stderr",
     "output_type": "stream",
     "text": [
      "┌ Warning: dt(2.3283064365386963e-10) <= dtmin(2.3283064365386963e-10) at t=0.00010298403210486574, and step error estimate = 1.0099365361610029. Aborting. There is either an error in your model specification or the true solution is unstable.\n",
      "└ @ SciMLBase /home/jpelle/.julia/packages/SciMLBase/qp2gL/src/integrator_interface.jl:599\n"
     ]
    },
    {
     "name": "stdout",
     "output_type": "stream",
     "text": [
      "Equations integration stats:\n",
      "Wall clock time: 77.850827239 seconds\n",
      "Memory allocated: 322.855 GiB\n"
     ]
    },
    {
     "data": {
      "image/png": "[encoded data removed]"
     },
     "metadata": {},
     "output_type": "display_data"
    }
   ],
   "source": [
    "spacetime = KerrSpacetimeBoyerLindquistCoordinates(M=1.0,a=0.998)\n",
    "corona = LamppostCorona(height=10.0, theta_offset=1e-5, spectral_index = 2.0)\n",
    "configurations = VacuumETOConfigurations(spacetime=spacetime,\n",
    "                                   radiative_model = corona,\n",
    "                                   number_of_points=1,\n",
    "                                   number_of_packets_per_point = 1000000, \n",
    "                                   max_radius = 110.0,\n",
    "                                   unit_mass_in_solar_masses=1.0)\n",
    "initial_data = initialize(configurations)\n",
    "disk = NovikovThorneDisk(inner_radius = isco_radius(spacetime, ProgradeRotation()), outer_radius = 100.0)\n",
    "cbp = callback_parameters(spacetime, disk, configurations; rhorizon_bound=2e-3)\n",
    "cb = callback(spacetime, disk)\n",
    "sim = integrate(initial_data, configurations, cb, cbp; method=VCABM(), reltol=1e-5, abstol=1e-5)\n",
    "output_data = sim.output_data\n",
    "at_source = map(position -> is_final_position_at_source(position, spacetime, disk) && position[3] ≈ π/2, eachcol(output_data))\n",
    "radii = output_data[2,at_source]\n",
    "q = energies_quotients(output_data[:,at_source], spacetime, disk)\n",
    "bins = radial_bins(disk, nbins=100)\n",
    "# bins = r_in*exp10.(range(0.0, stop=log10(r_out/r_in), length=100))\n",
    "A = ring_areas(bins, spacetime)\n",
    "γ = lorentz_factors(bins, spacetime, disk)\n",
    "h = fit(Histogram, radii, bins)\n",
    "h = normalize(h, mode=:probability)\n",
    "𝓝 = h.weights\n",
    "\n",
    "qavg = average_inside_radial_bins(q, radii, bins)\n",
    "\n",
    "Γ = corona.spectral_index\n",
    "n = 𝓝./(A.*γ)\n",
    "I = qavg.^Γ.*n\n",
    "\n",
    "bins_midpoints = 0.5*(bins[1:end-1] + bins[2:end])\n",
    "\n",
    "astr = string(@sprintf(\"%02d\", spacetime.a))\n",
    "hstr = string(@sprintf(\"%02d\", corona.height))\n",
    "istr = string(@sprintf(\"%02d\", corona.spectral_index))\n",
    "filename = \"io/corona/kerr/a$(astr)_h$(hstr)_idx$(istr).txt\"\n",
    "open(filename, \"w\") do io\n",
    "    writedlm(io, [bins_midpoints I])\n",
    "end\n",
    "\n",
    "fig = Figure(resolution=(400,400))\n",
    "ax = Axis(fig[1,1])\n",
    "lines!(ax, bins_midpoints, I)\n",
    "ax.xscale = log10\n",
    "ax.yscale = log10\n",
    "xlims!(1.0,200)\n",
    "ylims!(1e-6, 1e0)\n",
    "ax.xtickformat = \"{:.1f}\"\n",
    "fig"
   ]
  },
  {
   "cell_type": "code",
   "execution_count": 15,
   "metadata": {},
   "outputs": [
    {
     "data": {
      "text/plain": [
       "StatsModels.TableRegressionModel{LinearModel{GLM.LmResp{Vector{Float64}}, GLM.DensePredChol{Float64, CholeskyPivoted{Float64, Matrix{Float64}, Vector{Int64}}}}, Matrix{Float64}}\n",
       "\n",
       "logI ~ 1 + logr\n",
       "\n",
       "Coefficients:\n",
       "─────────────────────────────────────────────────────────────────────────────\n",
       "                 Coef.  Std. Error        t  Pr(>|t|)   Lower 95%   Upper 95%\n",
       "─────────────────────────────────────────────────────────────────────────────\n",
       "(Intercept)   0.020696  0.0154046      1.34    0.1883  -0.0106449   0.0520368\n",
       "logr         -2.99434   0.00856143  -349.75    <1e-59  -3.01175    -2.97692\n",
       "─────────────────────────────────────────────────────────────────────────────"
      ]
     },
     "metadata": {},
     "output_type": "display_data"
    }
   ],
   "source": [
    "df = DataFrame(logr = log10.(bins_midpoints[16:end]), logI = log10.(I[16:end]))\n",
    "ols = lm(@formula(logI ~ logr), df)"
   ]
  }
 ],
 "metadata": {
  "kernelspec": {
   "display_name": "Julia 1.9.2",
   "language": "julia",
   "name": "julia-1.9"
  },
  "language_info": {
   "file_extension": ".jl",
   "mimetype": "application/julia",
   "name": "julia",
   "version": "1.9.2"
  },
  "orig_nbformat": 4
 },
 "nbformat": 4,
 "nbformat_minor": 2
}
